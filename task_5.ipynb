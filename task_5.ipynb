{
 "cells": [
  {
   "cell_type": "code",
   "execution_count": 8,
   "id": "508a6dc7",
   "metadata": {},
   "outputs": [],
   "source": [
    "import pandas as pd\n",
    "import numpy as np"
   ]
  },
  {
   "cell_type": "code",
   "execution_count": null,
   "id": "85788fbc",
   "metadata": {},
   "outputs": [],
   "source": [
    "task_df = pd.read_csv('task_5.csv')\n",
    "task_df"
   ]
  },
  {
   "cell_type": "code",
   "execution_count": 14,
   "id": "4ab23804",
   "metadata": {},
   "outputs": [
    {
     "data": {
      "text/plain": [
       "Index(['Factory', 'Job Role', 'Equality Score', 'Equality class'], dtype='object')"
      ]
     },
     "execution_count": 14,
     "metadata": {},
     "output_type": "execute_result"
    }
   ],
   "source": [
    "task_df.columns"
   ]
  },
  {
   "cell_type": "code",
   "execution_count": 21,
   "id": "197080fe",
   "metadata": {},
   "outputs": [
    {
     "name": "stderr",
     "output_type": "stream",
     "text": [
      "C:\\Users\\harik\\AppData\\Local\\Temp\\ipykernel_21584\\3903744315.py:1: FutureWarning: Setting an item of incompatible dtype is deprecated and will raise an error in a future version of pandas. Value 'Fair' has dtype incompatible with float64, please explicitly cast to a compatible dtype first.\n",
      "  task_df.loc[(task_df['Equality Score'] >= -10) & (task_df['Equality Score'] <= 10), 'Equality class'] = 'Fair'\n"
     ]
    }
   ],
   "source": [
    "task_df.loc[(task_df['Equality Score'] >= -10) & (task_df['Equality Score'] <= 10), 'Equality class'] = 'Fair'\n",
    "\n",
    "task_df.loc[((task_df['Equality Score'] < -10) & (task_df['Equality Score'] >= -20)) |\n",
    "            ((task_df['Equality Score'] > 10) & (task_df['Equality Score'] <= 20)), 'Equality class' ] = 'Unfair'\n",
    "\n",
    "task_df.loc[(task_df['Equality Score'] < -20) | (task_df['Equality Score'] > 20), 'Equality class'] = 'Highly Discriminative'\n"
   ]
  },
  {
   "cell_type": "code",
   "execution_count": 24,
   "id": "838596b6",
   "metadata": {},
   "outputs": [],
   "source": [
    "task_df.to_csv('task_5.csv', index=False)"
   ]
  }
 ],
 "metadata": {
  "kernelspec": {
   "display_name": "Python 3",
   "language": "python",
   "name": "python3"
  },
  "language_info": {
   "codemirror_mode": {
    "name": "ipython",
    "version": 3
   },
   "file_extension": ".py",
   "mimetype": "text/x-python",
   "name": "python",
   "nbconvert_exporter": "python",
   "pygments_lexer": "ipython3",
   "version": "3.13.2"
  }
 },
 "nbformat": 4,
 "nbformat_minor": 5
}
